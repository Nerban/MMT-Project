{
 "cells": [
  {
   "attachments": {},
   "cell_type": "markdown",
   "metadata": {},
   "source": [
    "## Imports"
   ]
  },
  {
   "cell_type": "code",
   "execution_count": 14,
   "metadata": {},
   "outputs": [],
   "source": [
    "import tkinter\n",
    "import colorsys\n",
    "import time\n",
    "import customtkinter"
   ]
  },
  {
   "attachments": {},
   "cell_type": "markdown",
   "metadata": {},
   "source": [
    "## Globals"
   ]
  },
  {
   "cell_type": "code",
   "execution_count": 15,
   "metadata": {},
   "outputs": [],
   "source": [
    "running = True\n",
    "speed = 1\n",
    "hue = 0\n",
    "sat = 0\n",
    "light = 0\n",
    "hex = \"#ed872d\"\n"
   ]
  },
  {
   "attachments": {},
   "cell_type": "markdown",
   "metadata": {},
   "source": [
    "## Main Window"
   ]
  },
  {
   "cell_type": "code",
   "execution_count": 16,
   "metadata": {},
   "outputs": [
    {
     "data": {
      "text/plain": [
       "''"
      ]
     },
     "execution_count": 16,
     "metadata": {},
     "output_type": "execute_result"
    }
   ],
   "source": [
    "root_tk = tkinter.Tk()\n",
    "root_tk.configure(background='black')\n",
    "\n",
    "root_tk.geometry(\"1000x700\")\n",
    "root_tk.attributes('-fullscreen',True)\n",
    "root_tk.title(\"Fenster\")"
   ]
  },
  {
   "attachments": {},
   "cell_type": "markdown",
   "metadata": {},
   "source": [
    "## Layout"
   ]
  },
  {
   "cell_type": "code",
   "execution_count": 17,
   "metadata": {},
   "outputs": [],
   "source": [
    "frame = customtkinter.CTkFrame(master=root_tk,\n",
    "                               fg_color=\"#ed872d\",\n",
    "                               width=150,\n",
    "                               height=150,\n",
    "                               corner_radius=50)\n",
    "frame.place(relx=0.5, rely=0.5, anchor=tkinter.CENTER)"
   ]
  },
  {
   "attachments": {},
   "cell_type": "markdown",
   "metadata": {},
   "source": [
    "## UI Elements"
   ]
  },
  {
   "cell_type": "code",
   "execution_count": 18,
   "metadata": {},
   "outputs": [],
   "source": [
    "button = customtkinter.CTkButton(master=root_tk,\n",
    "                                 corner_radius=10,\n",
    "                                 command=pauseButton,\n",
    "                                 text=\"Pause/Play\")\n",
    "\n",
    "button.place(relx = .3, rely = 0.95,anchor=tkinter.CENTER )\n",
    "\n",
    "slider = customtkinter.CTkSlider(master=root_tk,\n",
    "                                 width=160,\n",
    "                                 height=16,\n",
    "                                 border_width=5.5,\n",
    "                                 command=speedChange)\n",
    "slider.place(relx=0.9, rely=0.95, anchor=tkinter.CENTER)\n",
    "\n",
    "label = customtkinter.CTkLabel(master=root_tk,\n",
    "                               text=\"updaterate:\",\n",
    "                               width=120,\n",
    "                               height=25,\n",
    "                               corner_radius=8)\n",
    "label.place(relx=0.8, rely=0.95, anchor=tkinter.CENTER)\n",
    "\n",
    "slider2 = customtkinter.CTkSlider(master=root_tk,\n",
    "                                 width=160,\n",
    "                                 height=16,\n",
    "                                 border_width=5.5,\n",
    "                                 command=satChange)\n",
    "slider2.place(relx=0.9, rely=0.9, anchor=tkinter.CENTER)\n",
    "\n",
    "label2 = customtkinter.CTkLabel(master=root_tk,\n",
    "                               text=\"saturation:\",\n",
    "                               width=120,\n",
    "                               height=25,\n",
    "                               corner_radius=8)\n",
    "label2.place(relx=0.8, rely=0.9, anchor=tkinter.CENTER)"
   ]
  },
  {
   "attachments": {},
   "cell_type": "markdown",
   "metadata": {},
   "source": [
    "## Listener Functions"
   ]
  },
  {
   "cell_type": "code",
   "execution_count": 19,
   "metadata": {},
   "outputs": [],
   "source": [
    "def pauseButton():\n",
    "    global running\n",
    "    running = not running\n",
    "\n",
    "def speedChange(value):\n",
    "    global speed\n",
    "    if (value * 2 > 0.6):\n",
    "        speed = value * 2\n",
    "\n",
    "def satChange(value):\n",
    "    pass"
   ]
  },
  {
   "attachments": {},
   "cell_type": "markdown",
   "metadata": {},
   "source": [
    "## Mainloop"
   ]
  },
  {
   "cell_type": "code",
   "execution_count": 20,
   "metadata": {},
   "outputs": [
    {
     "ename": "TclError",
     "evalue": "invalid command name \".!ctklabel.!label\"",
     "output_type": "error",
     "traceback": [
      "\u001b[0;31m---------------------------------------------------------------------------\u001b[0m",
      "\u001b[0;31mTclError\u001b[0m                                  Traceback (most recent call last)",
      "Cell \u001b[0;32mIn[20], line 8\u001b[0m\n\u001b[1;32m      5\u001b[0m root_tk\u001b[39m.\u001b[39mupdate_idletasks()\n\u001b[1;32m      6\u001b[0m root_tk\u001b[39m.\u001b[39mupdate()\n\u001b[0;32m----> 8\u001b[0m label\u001b[39m.\u001b[39;49mconfigure(text\u001b[39m=\u001b[39;49m\u001b[39m\"\u001b[39;49m\u001b[39mupdaterate= \u001b[39;49m\u001b[39m\"\u001b[39;49m\u001b[39m+\u001b[39;49m\u001b[39mstr\u001b[39;49m(\u001b[39mround\u001b[39;49m(speed,\u001b[39m2\u001b[39;49m)))\n\u001b[1;32m     11\u001b[0m \u001b[39mif\u001b[39;00m running \u001b[39mand\u001b[39;00m (time_2 \u001b[39m-\u001b[39m time_1 \u001b[39m>\u001b[39m speed):\n\u001b[1;32m     12\u001b[0m     \u001b[39mif\u001b[39;00m root_tk\u001b[39m.\u001b[39mcget(\u001b[39m\"\u001b[39m\u001b[39mbackground\u001b[39m\u001b[39m\"\u001b[39m) \u001b[39m==\u001b[39m \u001b[39m\"\u001b[39m\u001b[39mblack\u001b[39m\u001b[39m\"\u001b[39m:\n",
      "File \u001b[0;32m~/.local/lib/python3.10/site-packages/customtkinter/windows/widgets/ctk_label.py:189\u001b[0m, in \u001b[0;36mCTkLabel.configure\u001b[0;34m(self, require_redraw, **kwargs)\u001b[0m\n\u001b[1;32m    187\u001b[0m \u001b[39mif\u001b[39;00m \u001b[39m\"\u001b[39m\u001b[39mtext\u001b[39m\u001b[39m\"\u001b[39m \u001b[39min\u001b[39;00m kwargs:\n\u001b[1;32m    188\u001b[0m     \u001b[39mself\u001b[39m\u001b[39m.\u001b[39m_text \u001b[39m=\u001b[39m kwargs\u001b[39m.\u001b[39mpop(\u001b[39m\"\u001b[39m\u001b[39mtext\u001b[39m\u001b[39m\"\u001b[39m)\n\u001b[0;32m--> 189\u001b[0m     \u001b[39mself\u001b[39;49m\u001b[39m.\u001b[39;49m_label\u001b[39m.\u001b[39;49mconfigure(text\u001b[39m=\u001b[39;49m\u001b[39mself\u001b[39;49m\u001b[39m.\u001b[39;49m_text)\n\u001b[1;32m    191\u001b[0m \u001b[39mif\u001b[39;00m \u001b[39m\"\u001b[39m\u001b[39mfont\u001b[39m\u001b[39m\"\u001b[39m \u001b[39min\u001b[39;00m kwargs:\n\u001b[1;32m    192\u001b[0m     \u001b[39mif\u001b[39;00m \u001b[39misinstance\u001b[39m(\u001b[39mself\u001b[39m\u001b[39m.\u001b[39m_font, CTkFont):\n",
      "File \u001b[0;32m/usr/lib/python3.10/tkinter/__init__.py:1675\u001b[0m, in \u001b[0;36mMisc.configure\u001b[0;34m(self, cnf, **kw)\u001b[0m\n\u001b[1;32m   1668\u001b[0m \u001b[39mdef\u001b[39;00m \u001b[39mconfigure\u001b[39m(\u001b[39mself\u001b[39m, cnf\u001b[39m=\u001b[39m\u001b[39mNone\u001b[39;00m, \u001b[39m*\u001b[39m\u001b[39m*\u001b[39mkw):\n\u001b[1;32m   1669\u001b[0m \u001b[39m    \u001b[39m\u001b[39m\"\"\"Configure resources of a widget.\u001b[39;00m\n\u001b[1;32m   1670\u001b[0m \n\u001b[1;32m   1671\u001b[0m \u001b[39m    The values for resources are specified as keyword\u001b[39;00m\n\u001b[1;32m   1672\u001b[0m \u001b[39m    arguments. To get an overview about\u001b[39;00m\n\u001b[1;32m   1673\u001b[0m \u001b[39m    the allowed keyword arguments call the method keys.\u001b[39;00m\n\u001b[1;32m   1674\u001b[0m \u001b[39m    \"\"\"\u001b[39;00m\n\u001b[0;32m-> 1675\u001b[0m     \u001b[39mreturn\u001b[39;00m \u001b[39mself\u001b[39;49m\u001b[39m.\u001b[39;49m_configure(\u001b[39m'\u001b[39;49m\u001b[39mconfigure\u001b[39;49m\u001b[39m'\u001b[39;49m, cnf, kw)\n",
      "File \u001b[0;32m/usr/lib/python3.10/tkinter/__init__.py:1665\u001b[0m, in \u001b[0;36mMisc._configure\u001b[0;34m(self, cmd, cnf, kw)\u001b[0m\n\u001b[1;32m   1663\u001b[0m \u001b[39mif\u001b[39;00m \u001b[39misinstance\u001b[39m(cnf, \u001b[39mstr\u001b[39m):\n\u001b[1;32m   1664\u001b[0m     \u001b[39mreturn\u001b[39;00m \u001b[39mself\u001b[39m\u001b[39m.\u001b[39m_getconfigure1(_flatten((\u001b[39mself\u001b[39m\u001b[39m.\u001b[39m_w, cmd, \u001b[39m'\u001b[39m\u001b[39m-\u001b[39m\u001b[39m'\u001b[39m\u001b[39m+\u001b[39mcnf)))\n\u001b[0;32m-> 1665\u001b[0m \u001b[39mself\u001b[39;49m\u001b[39m.\u001b[39;49mtk\u001b[39m.\u001b[39;49mcall(_flatten((\u001b[39mself\u001b[39;49m\u001b[39m.\u001b[39;49m_w, cmd)) \u001b[39m+\u001b[39;49m \u001b[39mself\u001b[39;49m\u001b[39m.\u001b[39;49m_options(cnf))\n",
      "\u001b[0;31mTclError\u001b[0m: invalid command name \".!ctklabel.!label\""
     ]
    }
   ],
   "source": [
    "time_1 = 0\n",
    "\n",
    "while 1:\n",
    "    time_2 = time.process_time()\n",
    "    root_tk.update_idletasks()\n",
    "    root_tk.update()\n",
    "    \n",
    "    label.configure(text=\"updaterate= \"+str(round(speed,2)))\n",
    "\n",
    "    \n",
    "    if running and (time_2 - time_1 > speed):\n",
    "        if root_tk.cget(\"background\") == \"black\":\n",
    "            root_tk.config(bg = \"white\")\n",
    "            label.configure(text_color = \"black\")\n",
    "        else:\n",
    "            root_tk.config(bg = \"black\")\n",
    "            label.configure(text_color = \"white\")\n",
    "        time_1 = time_2"
   ]
  }
 ],
 "metadata": {
  "kernelspec": {
   "display_name": "Python 3",
   "language": "python",
   "name": "python3"
  },
  "language_info": {
   "codemirror_mode": {
    "name": "ipython",
    "version": 3
   },
   "file_extension": ".py",
   "mimetype": "text/x-python",
   "name": "python",
   "nbconvert_exporter": "python",
   "pygments_lexer": "ipython3",
   "version": "3.10.9"
  },
  "orig_nbformat": 4,
  "vscode": {
   "interpreter": {
    "hash": "e7370f93d1d0cde622a1f8e1c04877d8463912d04d973331ad4851f04de6915a"
   }
  }
 },
 "nbformat": 4,
 "nbformat_minor": 2
}
